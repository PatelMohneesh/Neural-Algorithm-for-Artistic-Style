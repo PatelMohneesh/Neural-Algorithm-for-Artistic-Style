{
 "cells": [
  {
   "cell_type": "markdown",
   "metadata": {},
   "source": [
    "## A Neural Algorithm of Artistic Style \n",
    "### Group ID: KMNN\n",
    "#### Nachiket Paranjape (nmp2139) | Mohneesh Patel (mp3542) | Ketan Mehta (kmm2304)\n",
    "\n",
    "We take a look at transferring the style patterns of a given image on to another image, with the help of Convolutional Neural Networks. The orginal paper can be found [here](https://arxiv.org/abs/1508.06576). \n",
    "\n",
    "The original paper takes uses the `VGG-19` network. In this approach we make use of the following two alternative approaches to the model. \n",
    "1. VGG-16\n",
    "2. AlexNet"
   ]
  },
  {
   "cell_type": "code",
   "execution_count": 1,
   "metadata": {},
   "outputs": [],
   "source": [
    "import scipy.misc\n",
    "import numpy as np\n",
    "import tensorflow as tf\n",
    "from models import alexnet\n",
    "from models import vgg\n",
    "import argparse\n",
    "import losses\n",
    "import matplotlib.pyplot as plt "
   ]
  },
  {
   "cell_type": "markdown",
   "metadata": {},
   "source": [
    "We will now specify the network we wish to use in the given approach. "
   ]
  },
  {
   "cell_type": "code",
   "execution_count": 2,
   "metadata": {},
   "outputs": [],
   "source": [
    "network_model = vgg\n",
    "#network_model = alexnet"
   ]
  },
  {
   "cell_type": "markdown",
   "metadata": {},
   "source": [
    "We now create helper functions for loading the image. "
   ]
  },
  {
   "cell_type": "code",
   "execution_count": 24,
   "metadata": {},
   "outputs": [],
   "source": [
    "input_content = 'input/1-content.jpg'\n",
    "input_style = 'styles/style1.jpg'\n",
    "def load_image(img_path, new_size=None):\n",
    "    loaded = scipy.misc.imread(img_path).astype(np.float)\n",
    "\n",
    "    # grayscale to rgb\n",
    "    if len(loaded.shape) == 2:\n",
    "        loaded = np.dstack([loaded, loaded, loaded])\n",
    "\n",
    "    # rescale if needed\n",
    "    if new_size:\n",
    "        h,w,c = loaded.shape\n",
    "        if h > w:\n",
    "            ratio = w/float(h)\n",
    "            shape = (new_size, int(new_size*ratio))\n",
    "        else:\n",
    "            ratio = h/float(w)\n",
    "            shape = (int(new_size*ratio), new_size)\n",
    "        loaded = scipy.misc.imresize(loaded, shape)\n",
    "\n",
    "    return loaded\n",
    "\n",
    "def get_name(photo):\n",
    "    return photo.split('/')[1].split('.')[0]"
   ]
  },
  {
   "cell_type": "markdown",
   "metadata": {},
   "source": [
    "Define the parameters which will be used for the purpose of training. "
   ]
  },
  {
   "cell_type": "code",
   "execution_count": 33,
   "metadata": {},
   "outputs": [],
   "source": [
    "C_LAYER = network_model.content_layers()\n",
    "S_LAYERS = network_model.style_layers()\n",
    "\n",
    "content_weight = 1e0\n",
    "style_weight = 1e5\n",
    "tv_weight = 0\n",
    "learning_rate = 1e0\n",
    "\n",
    "ITERATIONS = 1000\n",
    "epochs = 1000"
   ]
  },
  {
   "cell_type": "markdown",
   "metadata": {},
   "source": [
    "Define the images for Style, Content and the Output Path"
   ]
  },
  {
   "cell_type": "code",
   "execution_count": 34,
   "metadata": {},
   "outputs": [
    {
     "name": "stderr",
     "output_type": "stream",
     "text": [
      "/home/mp3542/.local/lib/python3.5/site-packages/ipykernel_launcher.py:4: DeprecationWarning: `imread` is deprecated!\n",
      "`imread` is deprecated in SciPy 1.0.0, and will be removed in 1.2.0.\n",
      "Use ``imageio.imread`` instead.\n",
      "  after removing the cwd from sys.path.\n"
     ]
    }
   ],
   "source": [
    "out = get_name(input_content)+'_'+get_name(input_style)+'.jpg'\n",
    "style_weight_layer = style_weight/len(S_LAYERS)\n",
    "\n",
    "content = load_image(input_content, None)\n",
    "style = load_image(input_style, None)\n"
   ]
  },
  {
   "cell_type": "markdown",
   "metadata": {},
   "source": [
    "Compute layer activations for content and stlye image"
   ]
  },
  {
   "cell_type": "code",
   "execution_count": 35,
   "metadata": {},
   "outputs": [],
   "source": [
    "# layer activations for content\n",
    "g = tf.Graph()\n",
    "with g.as_default(), g.device('/gpu:0'), tf.Session() as sess:\n",
    "    content_pre = np.array([network_model.preprocess(content)])\n",
    "\n",
    "    image = tf.placeholder('float', shape=content_pre.shape)\n",
    "    model = network_model.get_model(image)\n",
    "    content_out = sess.run(model[C_LAYER], feed_dict = {image:content_pre})\n",
    "\n",
    "# layer activations for style\n",
    "g = tf.Graph()\n",
    "with g.as_default(), g.device('/gpu:0'), tf.Session() as sess:\n",
    "    style_pre = np.array([network_model.preprocess(style)])\n",
    "    image = tf.placeholder('float', shape=style_pre.shape)\n",
    "    model = network_model.get_model(image)\n",
    "    style_out = sess.run({s_l:model[s_l] for s_l in S_LAYERS}, feed_dict = {image:style_pre})\n",
    "    "
   ]
  },
  {
   "cell_type": "markdown",
   "metadata": {},
   "source": [
    "This is the part where we now combine the losses and make use of the optimizer for training purpose. "
   ]
  },
  {
   "cell_type": "code",
   "execution_count": 36,
   "metadata": {
    "scrolled": false
   },
   "outputs": [
    {
     "name": "stdout",
     "output_type": "stream",
     "text": [
      "0     total loss: 3.73052e+13\n",
      "50     total loss: 4.38048e+12\n",
      "100     total loss: 1.55059e+12\n",
      "150     total loss: 9.66296e+11\n",
      "200     total loss: 7.16465e+11\n",
      "250     total loss: 5.7623e+11\n",
      "300     total loss: 4.85454e+11\n",
      "350     total loss: 4.21667e+11\n",
      "400     total loss: 3.74893e+11\n",
      "450     total loss: 3.38557e+11\n",
      "500     total loss: 3.09129e+11\n",
      "550     total loss: 2.84449e+11\n",
      "600     total loss: 2.63125e+11\n",
      "650     total loss: 2.44333e+11\n",
      "700     total loss: 2.27653e+11\n",
      "750     total loss: 2.12569e+11\n",
      "800     total loss: 1.98889e+11\n",
      "850     total loss: 1.86641e+11\n",
      "900     total loss: 1.75756e+11\n",
      "950     total loss: 1.6595e+11\n",
      "  content loss: 8.52472e+10\n",
      "    style loss: 7.21059e+10\n",
      "       tv loss: 0\n",
      "    total loss: 1.57353e+11\n"
     ]
    },
    {
     "name": "stderr",
     "output_type": "stream",
     "text": [
      "/home/mp3542/.local/lib/python3.5/site-packages/ipykernel_launcher.py:45: DeprecationWarning: `imsave` is deprecated!\n",
      "`imsave` is deprecated in SciPy 1.0.0, and will be removed in 1.2.0.\n",
      "Use ``imageio.imwrite`` instead.\n"
     ]
    },
    {
     "data": {
      "image/png": "[encoded data removed]",
      "text/plain": [
       "<matplotlib.figure.Figure at 0x7f20c808fa58>"
      ]
     },
     "metadata": {},
     "output_type": "display_data"
    }
   ],
   "source": [
    "loss_plot = []\n",
    "g = tf.Graph()\n",
    "with g.as_default(), g.device('/gpu:0'), tf.Session() as sess:\n",
    "    \n",
    "    target = tf.random_normal((1,)+content.shape)\n",
    "\n",
    "    target_pre_var = tf.Variable(target)\n",
    "\n",
    "    model = network_model.get_model(target_pre_var)\n",
    "\n",
    "    ## compute the loss\n",
    "    cont_cost = losses.content_loss(content_out, model, C_LAYER, content_weight)\n",
    "    style_cost = losses.style_loss(style_out, model, S_LAYERS, style_weight_layer)\n",
    "    tv_cost = losses.total_var_loss(target_pre_var, tv_weight)\n",
    "\n",
    "    total_loss = cont_cost + tf.add_n(style_cost) + tv_cost\n",
    "\n",
    "    train_step = tf.train.AdamOptimizer(learning_rate).minimize(total_loss)\n",
    "\n",
    "    sess.run(tf.initialize_all_variables())\n",
    "    min_loss = float(\"inf\")\n",
    "    best = None\n",
    "    for i in range(epochs):\n",
    "        train_step.run()\n",
    "\n",
    "        if (i%50 == 0):\n",
    "            loss = total_loss.eval()\n",
    "            print(i , '    total loss: %g' % total_loss.eval())\n",
    "            if(loss < min_loss):\n",
    "                min_loss = loss\n",
    "                best = target_pre_var.eval()\n",
    "        loss_plot.append(total_loss.eval())\n",
    "\n",
    "    print('  content loss: %g' % cont_cost.eval())\n",
    "    print('    style loss: %g' % tf.add_n(style_cost).eval())\n",
    "    print('       tv loss: %g' % tv_cost.eval())\n",
    "    print('    total loss: %g' % total_loss.eval())\n",
    "    \n",
    "    \n",
    "    final = best\n",
    "    final = final.squeeze()\n",
    "    final = network_model.postprocess(final)\n",
    "\n",
    "    final = np.clip(final, 0, 255).astype(np.uint8)\n",
    "    scipy.misc.imsave(out, final)\n",
    "\n",
    "plt.plot(loss_plot)\n",
    "plt.show()"
   ]
  },
  {
   "cell_type": "code",
   "execution_count": null,
   "metadata": {},
   "outputs": [],
   "source": []
  },
  {
   "cell_type": "code",
   "execution_count": null,
   "metadata": {},
   "outputs": [],
   "source": []
  }
 ],
 "metadata": {
  "kernelspec": {
   "display_name": "Python 3",
   "language": "python",
   "name": "python3"
  },
  "language_info": {
   "codemirror_mode": {
    "name": "ipython",
    "version": 3
   },
   "file_extension": ".py",
   "mimetype": "text/x-python",
   "name": "python",
   "nbconvert_exporter": "python",
   "pygments_lexer": "ipython3",
   "version": "3.5.2"
  }
 },
 "nbformat": 4,
 "nbformat_minor": 2
}
